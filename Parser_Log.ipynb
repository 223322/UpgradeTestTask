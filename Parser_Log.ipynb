{
 "cells": [
  {
   "cell_type": "code",
   "execution_count": 1,
   "metadata": {},
   "outputs": [],
   "source": [
    "import pandas as pd\n",
    "import os\n",
    "import re\n",
    "import pysyge"
   ]
  },
  {
   "cell_type": "code",
   "execution_count": 2,
   "metadata": {},
   "outputs": [],
   "source": [
    "for files in os.listdir():\n",
    "    temp = files.split('.')\n",
    "    try:\n",
    "        if temp[1] == 'txt':\n",
    "            file = files\n",
    "    except:\n",
    "        continue"
   ]
  },
  {
   "cell_type": "code",
   "execution_count": 3,
   "metadata": {},
   "outputs": [],
   "source": [
    "text = open(file, 'r')\n",
    "log = text.read()"
   ]
  },
  {
   "cell_type": "code",
   "execution_count": 78,
   "metadata": {},
   "outputs": [],
   "source": [
    "text.close()"
   ]
  },
  {
   "cell_type": "code",
   "execution_count": 79,
   "metadata": {
    "scrolled": false
   },
   "outputs": [],
   "source": [
    "spllog=log.split()"
   ]
  },
  {
   "cell_type": "code",
   "execution_count": 80,
   "metadata": {},
   "outputs": [],
   "source": [
    "count = 0\n",
    "for i in spllog:\n",
    "    if  i == 'shop_api':\n",
    "        spllog.pop(count)\n",
    "        spllog.pop(count)\n",
    "    elif i == 'INFO:':\n",
    "        spllog.pop(count)\n",
    "    count = count+1"
   ]
  },
  {
   "cell_type": "code",
   "execution_count": 81,
   "metadata": {
    "collapsed": true
   },
   "outputs": [
    {
     "ename": "KeyboardInterrupt",
     "evalue": "",
     "output_type": "error",
     "traceback": [
      "\u001b[1;31m---------------------------------------------------------------------------\u001b[0m",
      "\u001b[1;31mKeyboardInterrupt\u001b[0m                         Traceback (most recent call last)",
      "\u001b[1;32m<ipython-input-81-434b3553dbc8>\u001b[0m in \u001b[0;36m<module>\u001b[1;34m()\u001b[0m\n\u001b[0;32m      3\u001b[0m \u001b[1;32mfor\u001b[0m \u001b[0mi\u001b[0m \u001b[1;32min\u001b[0m \u001b[0mspllog\u001b[0m\u001b[1;33m:\u001b[0m\u001b[1;33m\u001b[0m\u001b[0m\n\u001b[0;32m      4\u001b[0m     \u001b[1;32mif\u001b[0m \u001b[0mcount\u001b[0m \u001b[1;33m<\u001b[0m \u001b[1;36m4\u001b[0m\u001b[1;33m:\u001b[0m\u001b[1;33m\u001b[0m\u001b[0m\n\u001b[1;32m----> 5\u001b[1;33m         \u001b[0mcsv_text\u001b[0m\u001b[1;33m=\u001b[0m\u001b[0mcsv_text\u001b[0m\u001b[1;33m+\u001b[0m\u001b[0mi\u001b[0m\u001b[1;33m+\u001b[0m\u001b[1;34m';'\u001b[0m\u001b[1;33m\u001b[0m\u001b[0m\n\u001b[0m\u001b[0;32m      6\u001b[0m         \u001b[0mcount\u001b[0m\u001b[1;33m+=\u001b[0m\u001b[1;36m1\u001b[0m\u001b[1;33m\u001b[0m\u001b[0m\n\u001b[0;32m      7\u001b[0m     \u001b[1;32melif\u001b[0m \u001b[0mcount\u001b[0m \u001b[1;33m==\u001b[0m \u001b[1;36m4\u001b[0m\u001b[1;33m:\u001b[0m\u001b[1;33m\u001b[0m\u001b[0m\n",
      "\u001b[1;31mKeyboardInterrupt\u001b[0m: "
     ]
    }
   ],
   "source": [
    "csv_text = 'Date;Time;Code;IP;Https\\n'\n",
    "count = 0\n",
    "for i in spllog:\n",
    "    if count < 4:\n",
    "        csv_text=csv_text+i+';' \n",
    "        count+=1\n",
    "    elif count == 4:\n",
    "        csv_text=csv_text+i+'\\n'  \n",
    "        count=0"
   ]
  },
  {
   "cell_type": "code",
   "execution_count": null,
   "metadata": {},
   "outputs": [],
   "source": [
    "text = open('logs_to_csv.csv', 'w')\n",
    "log = text.write(csv_text)"
   ]
  },
  {
   "cell_type": "code",
   "execution_count": null,
   "metadata": {},
   "outputs": [],
   "source": [
    "text.close()"
   ]
  },
  {
   "cell_type": "markdown",
   "metadata": {},
   "source": [
    "======= Location ======"
   ]
  },
  {
   "cell_type": "code",
   "execution_count": 7,
   "metadata": {},
   "outputs": [],
   "source": [
    "df = pd.read_csv('logs_to_csv.csv', sep=';')"
   ]
  },
  {
   "cell_type": "code",
   "execution_count": 8,
   "metadata": {},
   "outputs": [],
   "source": [
    "ip = set(df.IP)"
   ]
  },
  {
   "cell_type": "code",
   "execution_count": 9,
   "metadata": {},
   "outputs": [],
   "source": [
    "geodata = pysyge.GeoLocator('SxGeoCity.dat', pysyge.pysyge.MODE_BATCH  | pysyge.pysyge.MODE_MEMORY)"
   ]
  },
  {
   "cell_type": "code",
   "execution_count": 10,
   "metadata": {},
   "outputs": [],
   "source": [
    "locations = geodata.get_locations(ip, detailed=True)"
   ]
  },
  {
   "cell_type": "code",
   "execution_count": 16,
   "metadata": {},
   "outputs": [],
   "source": [
    "loc = []\n",
    "for i in locations:\n",
    "    if i:\n",
    "        loc.append(str(i['info']['country']['name_en']))\n",
    "    else:\n",
    "        loc.append(str(i))"
   ]
  },
  {
   "cell_type": "code",
   "execution_count": 21,
   "metadata": {},
   "outputs": [],
   "source": [
    "list_loc=[]\n",
    "for i in loc:\n",
    "    if i == 'True' or i == 'False':\n",
    "        list_loc.append('Not found')\n",
    "    else:\n",
    "        list_loc.append(i)"
   ]
  },
  {
   "cell_type": "code",
   "execution_count": 22,
   "metadata": {},
   "outputs": [],
   "source": [
    "list_ip = []\n",
    "for i in ip:\n",
    "        list_ip.append(i)"
   ]
  },
  {
   "cell_type": "code",
   "execution_count": 23,
   "metadata": {},
   "outputs": [],
   "source": [
    "df_Loction = pd.DataFrame()\n",
    "df_Loction['IP']=list_ip\n",
    "df_Loction['Country'] = list_loc"
   ]
  },
  {
   "cell_type": "code",
   "execution_count": 24,
   "metadata": {},
   "outputs": [],
   "source": [
    "df_Loction.to_csv('Location.csv', sep = ';',index=False, encoding='Windows 1251')"
   ]
  },
  {
   "cell_type": "code",
   "execution_count": null,
   "metadata": {},
   "outputs": [],
   "source": [
    "#print('%s (%s) calling. All the circuits are busy.' % (location['info']['city']['name_en'], location['info']['country']['iso']))"
   ]
  },
  {
   "cell_type": "markdown",
   "metadata": {},
   "source": [
    "===== Категории ====="
   ]
  },
  {
   "cell_type": "code",
   "execution_count": 87,
   "metadata": {},
   "outputs": [],
   "source": [
    "df = pd.read_csv('logs_to_csv.csv', sep=';')"
   ]
  },
  {
   "cell_type": "code",
   "execution_count": 123,
   "metadata": {},
   "outputs": [],
   "source": [
    "list =[]\n",
    "for i in df.Https: \n",
    "    if len(re.findall(r'user_id*',i))==0 and len(re.findall(r'success_pa*',i))==0 and len(re.findall(r'goods_id*',i))==0:\n",
    "        spl = re.findall(r'all_to_the_bottom.*',i)[0].split('/')\n",
    "        if len(spl)>2:\n",
    "            section = spl[1]\n",
    "        else:\n",
    "            section = spl[0]\n",
    "        list.append(section)"
   ]
  },
  {
   "cell_type": "code",
   "execution_count": 126,
   "metadata": {},
   "outputs": [],
   "source": [
    "category = []\n",
    "for i in set(list):\n",
    "    category.append(i)"
   ]
  },
  {
   "cell_type": "code",
   "execution_count": 128,
   "metadata": {},
   "outputs": [],
   "source": [
    "df_Category = pd.DataFrame({'Category':category})"
   ]
  },
  {
   "cell_type": "code",
   "execution_count": 129,
   "metadata": {},
   "outputs": [],
   "source": [
    "df_Category['ID_Category']=df_Category.index"
   ]
  },
  {
   "cell_type": "code",
   "execution_count": 130,
   "metadata": {},
   "outputs": [],
   "source": [
    "df_Category.to_csv('Category.csv',sep=';', index=False)"
   ]
  },
  {
   "cell_type": "markdown",
   "metadata": {},
   "source": [
    "======= Товары ======"
   ]
  },
  {
   "cell_type": "code",
   "execution_count": 132,
   "metadata": {},
   "outputs": [],
   "source": [
    "df = pd.read_csv('logs_to_csv.csv', sep=';')"
   ]
  },
  {
   "cell_type": "code",
   "execution_count": 133,
   "metadata": {},
   "outputs": [],
   "source": [
    "dfg = pd.read_csv('Location.csv',sep=';')"
   ]
  },
  {
   "cell_type": "code",
   "execution_count": 134,
   "metadata": {},
   "outputs": [],
   "source": [
    "dict = {}\n",
    "for j in dfg.IP:\n",
    "    https = df[df['IP']==j]['Https'] \n",
    "    s = ''\n",
    "    for i in https:\n",
    "        if len(re.findall(r'goods_id*',i))!=0: \n",
    "            \n",
    "            spl = re.findall(r'goods_id.*',i)[0].split('&')\n",
    "            goods= re.findall(r'\\d.*',spl[0])[0]\n",
    "\n",
    "            product = re.findall(r'all_to_the_bottom.com.*',s)[0].split('/')\n",
    "            \n",
    "            dict[goods]=product[len(product)-3]+'/'+product[len(product)-2]\n",
    "\n",
    "        s = i "
   ]
  },
  {
   "cell_type": "code",
   "execution_count": 135,
   "metadata": {},
   "outputs": [],
   "source": [
    "ID_product = []\n",
    "Goods = []\n",
    "Category = []\n",
    "for i in dict.keys():\n",
    "    ID_product.append(i)\n",
    "    spl = re.split('/',dict[i])\n",
    "    Category.append(spl[0])\n",
    "    Goods.append(spl[1])"
   ]
  },
  {
   "cell_type": "code",
   "execution_count": 136,
   "metadata": {},
   "outputs": [],
   "source": [
    "df = pd.DataFrame({'Product':Goods,\n",
    "                  'Category':Category,\n",
    "                  'ID_Product':ID_product})"
   ]
  },
  {
   "cell_type": "code",
   "execution_count": 137,
   "metadata": {
    "scrolled": true
   },
   "outputs": [],
   "source": [
    "df_Category = pd.read_csv('Category.csv',sep=';')"
   ]
  },
  {
   "cell_type": "code",
   "execution_count": 138,
   "metadata": {},
   "outputs": [],
   "source": [
    "df_Product = pd.merge(df_Category,df,on ='Category')"
   ]
  },
  {
   "cell_type": "code",
   "execution_count": 139,
   "metadata": {},
   "outputs": [],
   "source": [
    "df_Product = df_Product.drop('Category', 1) "
   ]
  },
  {
   "cell_type": "code",
   "execution_count": 140,
   "metadata": {},
   "outputs": [],
   "source": [
    "df_Product = df_Product.rename(columns={'ID_Category': 'Category'}) "
   ]
  },
  {
   "cell_type": "code",
   "execution_count": 144,
   "metadata": {},
   "outputs": [],
   "source": [
    "df_Product.to_csv('Product.csv',sep=';', index=False)"
   ]
  },
  {
   "cell_type": "markdown",
   "metadata": {},
   "source": [
    "======= Изменения формата Date========="
   ]
  },
  {
   "cell_type": "code",
   "execution_count": null,
   "metadata": {},
   "outputs": [],
   "source": [
    "df = pd.read_csv('logs_to_csv.csv', sep=';')\n",
    "list = []\n",
    "for i in df.Date:\n",
    "    list.append(i.replace('-','.'))\n",
    "df.Date=list\n",
    "df.to_csv('logs_to_csv.csv',sep=';',index=False)"
   ]
  },
  {
   "cell_type": "markdown",
   "metadata": {},
   "source": [
    "============== Корзина =============="
   ]
  },
  {
   "cell_type": "code",
   "execution_count": 145,
   "metadata": {},
   "outputs": [],
   "source": [
    "df = pd.read_csv('logs_to_csv.csv', sep=';')"
   ]
  },
  {
   "cell_type": "code",
   "execution_count": 146,
   "metadata": {
    "scrolled": true
   },
   "outputs": [],
   "source": [
    "Date=[]\n",
    "Time=[]\n",
    "IP = []\n",
    "Goods=[]\n",
    "Amount=[]\n",
    "Cart_id=[]\n",
    "for index, row in df.iterrows():\n",
    "    if len(re.findall(r'goods_id*',row.Https))!=0:\n",
    "        spl = re.findall(r'goods_id.*',row.Https)[0].split('&')\n",
    "        goods = re.findall(r'\\d.*',spl[0])[0]\n",
    "        amount = re.findall(r'\\d.*',spl[1])[0]\n",
    "        cart_id = re.findall(r'\\d.*',spl[2])[0]\n",
    "        Date.append(row['Date'])\n",
    "        Time.append(row['Time'])\n",
    "        IP.append(row['IP'])\n",
    "        Goods.append(goods)\n",
    "        Amount.append(amount)\n",
    "        Cart_id.append(cart_id)"
   ]
  },
  {
   "cell_type": "code",
   "execution_count": 147,
   "metadata": {},
   "outputs": [],
   "source": [
    "dfg = pd.DataFrame({'Date':Date,'Time':Time,'IP':IP,'Goods':Goods,'Amount':Amount,'Cart_id':Cart_id})"
   ]
  },
  {
   "cell_type": "code",
   "execution_count": null,
   "metadata": {},
   "outputs": [],
   "source": [
    "dfg['ID_Basket'] = dfg.index"
   ]
  },
  {
   "cell_type": "code",
   "execution_count": 148,
   "metadata": {},
   "outputs": [],
   "source": [
    "dfg.to_csv('Basket.csv',sep=';',index=False)"
   ]
  },
  {
   "cell_type": "code",
   "execution_count": null,
   "metadata": {},
   "outputs": [],
   "source": []
  },
  {
   "cell_type": "markdown",
   "metadata": {},
   "source": [
    "============ Покупка ===========\n",
    "\n"
   ]
  },
  {
   "cell_type": "code",
   "execution_count": 149,
   "metadata": {},
   "outputs": [],
   "source": [
    "df = pd.read_csv('logs_to_csv.csv', sep=';')"
   ]
  },
  {
   "cell_type": "code",
   "execution_count": 150,
   "metadata": {},
   "outputs": [],
   "source": [
    "Date=[]\n",
    "Time=[]\n",
    "IP = []\n",
    "Cart_id=[]\n",
    "User_id=[]\n",
    "Success_pay=[]\n",
    "\n",
    "for index, row in df.iterrows():\n",
    "    if len(re.findall(r'user_id*',row.Https))!=0:\n",
    "        spl = re.findall(r'user_id.*',row.Https)[0].split('&')\n",
    "        user_id = re.findall(r'\\d.*',spl[0])[0]\n",
    "        cart_id = re.findall(r'\\d.*',spl[1])[0]\n",
    "        \n",
    "        Date.append(row['Date'])\n",
    "        Time.append(row['Time'])\n",
    "        IP.append(row['IP'])\n",
    "        User_id.append(user_id)\n",
    "        Cart_id.append(cart_id)\n",
    "\n",
    "              \n",
    "    if len(re.findall(r'success_pay*',row.Https))!=0:\n",
    "        success_pay = re.findall(r'\\d*\\d',re.findall(r'success_pay.*',row.Https)[0])\n",
    "        Success_pay.append(success_pay[0])"
   ]
  },
  {
   "cell_type": "code",
   "execution_count": 151,
   "metadata": {},
   "outputs": [],
   "source": [
    "dfg1 = pd.DataFrame({'Date':Date,'Time':Time,'IP':IP,'User_id':User_id,'Cart_id':Cart_id})\n",
    "dfg2 = pd.DataFrame({'Cart_id':Success_pay,'Success_pay':Success_pay})"
   ]
  },
  {
   "cell_type": "code",
   "execution_count": 152,
   "metadata": {},
   "outputs": [],
   "source": [
    "dfg = pd.merge(dfg1,dfg2, on = 'Cart_id',how='left')"
   ]
  },
  {
   "cell_type": "code",
   "execution_count": 153,
   "metadata": {},
   "outputs": [],
   "source": [
    "list = []\n",
    "for i in dfg.Success_pay:\n",
    "    if len(i)>0:\n",
    "        list.append(True)\n",
    "    else:\n",
    "        list.append(False)\n",
    "dfg.Success_pay = list"
   ]
  },
  {
   "cell_type": "code",
   "execution_count": 154,
   "metadata": {},
   "outputs": [],
   "source": [
    "dfg.to_csv('Buy.csv',sep=';',index=False)"
   ]
  },
  {
   "cell_type": "markdown",
   "metadata": {},
   "source": [
    "========== Посещения ========="
   ]
  },
  {
   "cell_type": "code",
   "execution_count": 182,
   "metadata": {},
   "outputs": [],
   "source": [
    "df = pd.read_csv('logs_to_csv.csv', sep=';')"
   ]
  },
  {
   "cell_type": "code",
   "execution_count": 183,
   "metadata": {},
   "outputs": [],
   "source": [
    "Date=[]\n",
    "Time=[]\n",
    "IP = []\n",
    "Section=[]\n",
    "Product=[]\n",
    "\n",
    "for index, row in df.iterrows():\n",
    "    \n",
    "    if len(re.findall(r'user_id*',row.Https))==0 and len(re.findall(r'success_pa*',row.Https))==0 and len(re.findall(r'goods_id*',row.Https))==0:\n",
    "        spl = re.findall(r'all_to_the_bottom.*',row.Https)[0].split('/')\n",
    "        if len(spl)==4:   \n",
    "            section = spl[1]\n",
    "            product = spl[2]\n",
    "        elif len(spl)==3:\n",
    "            section = spl[1]\n",
    "            product =  None\n",
    "        else:\n",
    "            section = spl[0]\n",
    "            product =  None\n",
    "            \n",
    "        Date.append(row['Date'])\n",
    "        Time.append(row['Time'])\n",
    "        IP.append(row['IP'])\n",
    "        Section.append(section)\n",
    "        Product.append(product)"
   ]
  },
  {
   "cell_type": "code",
   "execution_count": 184,
   "metadata": {},
   "outputs": [],
   "source": [
    "dfg = pd.DataFrame({'Date':Date,'Time':Time,'IP':IP,'Category':Section,'Product':Product})"
   ]
  },
  {
   "cell_type": "code",
   "execution_count": 187,
   "metadata": {},
   "outputs": [],
   "source": [
    "df_Visit = pd.merge(dfg,df_Category, on = 'Category')"
   ]
  },
  {
   "cell_type": "code",
   "execution_count": 188,
   "metadata": {},
   "outputs": [],
   "source": [
    "df_Visit.Category = df_Visit.ID_Category"
   ]
  },
  {
   "cell_type": "code",
   "execution_count": 189,
   "metadata": {},
   "outputs": [],
   "source": [
    "df_Visit = df_Visit.drop('ID_Category', 1) "
   ]
  },
  {
   "cell_type": "code",
   "execution_count": 190,
   "metadata": {},
   "outputs": [],
   "source": [
    "df = pd.DataFrame()\n",
    "df['ID_Product'] = df_Product.ID_Product\n",
    "df['Product'] = df_Product.Product"
   ]
  },
  {
   "cell_type": "code",
   "execution_count": 191,
   "metadata": {},
   "outputs": [],
   "source": [
    "df_Visit = pd.merge(df_Visit,df, on = 'Product', how ='left')"
   ]
  },
  {
   "cell_type": "code",
   "execution_count": 193,
   "metadata": {},
   "outputs": [],
   "source": [
    "df_Visit.Product = df_Visit.ID_Product\n",
    "df_Visit = df_Visit.drop('ID_Product', 1) "
   ]
  },
  {
   "cell_type": "code",
   "execution_count": 194,
   "metadata": {},
   "outputs": [],
   "source": [
    "df_Visit['ID_Visit'] = df_Visit.index"
   ]
  },
  {
   "cell_type": "code",
   "execution_count": null,
   "metadata": {},
   "outputs": [],
   "source": [
    "list = []\n",
    "for i in df_Visit.Time:\n",
    "    spl = re.split(':',i) \n",
    "    if int(spl[0]) < 4 :\n",
    "        list.append('Night')\n",
    "    elif int(spl[0])>3 and int(spl[0])<12 :\n",
    "        list.append('Morning')\n",
    "    elif int(spl[0])>11 and int(spl[0])<17 :\n",
    "        list.append('Day')\n",
    "    else: \n",
    "        list.append('Evening')\n",
    "        \n",
    "df_Visit['Times_of_Day'] = list"
   ]
  },
  {
   "cell_type": "code",
   "execution_count": 12,
   "metadata": {
    "scrolled": true
   },
   "outputs": [],
   "source": [
    "df_Visit.to_csv('Visit.csv', sep=';',index=False)"
   ]
  },
  {
   "cell_type": "code",
   "execution_count": 13,
   "metadata": {},
   "outputs": [],
   "source": [
    "df = pd.read_csv('Buy.csv', sep=';')"
   ]
  },
  {
   "cell_type": "code",
   "execution_count": null,
   "metadata": {},
   "outputs": [],
   "source": []
  },
  {
   "cell_type": "code",
   "execution_count": null,
   "metadata": {},
   "outputs": [],
   "source": []
  },
  {
   "cell_type": "code",
   "execution_count": null,
   "metadata": {},
   "outputs": [],
   "source": []
  },
  {
   "cell_type": "code",
   "execution_count": 15,
   "metadata": {},
   "outputs": [
    {
     "data": {
      "text/plain": [
       "655"
      ]
     },
     "execution_count": 15,
     "metadata": {},
     "output_type": "execute_result"
    }
   ],
   "source": [
    "len(set(df.IP))"
   ]
  },
  {
   "cell_type": "code",
   "execution_count": 16,
   "metadata": {},
   "outputs": [
    {
     "data": {
      "text/plain": [
       "655"
      ]
     },
     "execution_count": 16,
     "metadata": {},
     "output_type": "execute_result"
    }
   ],
   "source": [
    "len(set(df.User_id))"
   ]
  },
  {
   "cell_type": "code",
   "execution_count": null,
   "metadata": {},
   "outputs": [],
   "source": []
  },
  {
   "cell_type": "code",
   "execution_count": 198,
   "metadata": {},
   "outputs": [
    {
     "data": {
      "text/plain": [
       "152"
      ]
     },
     "execution_count": 198,
     "metadata": {},
     "output_type": "execute_result"
    }
   ],
   "source": [
    "len(df[df['Country']=='False'])"
   ]
  },
  {
   "cell_type": "code",
   "execution_count": null,
   "metadata": {},
   "outputs": [],
   "source": []
  }
 ],
 "metadata": {
  "kernelspec": {
   "display_name": "Python 3",
   "language": "python",
   "name": "python3"
  },
  "language_info": {
   "codemirror_mode": {
    "name": "ipython",
    "version": 3
   },
   "file_extension": ".py",
   "mimetype": "text/x-python",
   "name": "python",
   "nbconvert_exporter": "python",
   "pygments_lexer": "ipython3",
   "version": "3.6.5"
  }
 },
 "nbformat": 4,
 "nbformat_minor": 2
}
