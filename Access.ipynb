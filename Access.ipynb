{
 "cells": [
  {
   "cell_type": "code",
   "execution_count": 1,
   "metadata": {},
   "outputs": [],
   "source": [
    "import pandas as pd\n",
    "import os\n",
    "import re\n",
    "import pysyge\n",
    "import pypyodbc"
   ]
  },
  {
   "cell_type": "markdown",
   "metadata": {},
   "source": [
    " "
   ]
  },
  {
   "cell_type": "markdown",
   "metadata": {},
   "source": [
    "==== Заполнение БД ===="
   ]
  },
  {
   "cell_type": "markdown",
   "metadata": {},
   "source": [
    "Укажите путь к новой базе в \"dbname\" "
   ]
  },
  {
   "cell_type": "code",
   "execution_count": 56,
   "metadata": {},
   "outputs": [
    {
     "name": "stdout",
     "output_type": "stream",
     "text": [
      "(-2147352567, 'Ошибка.', (0, 'DAO.Workspace', 'База данных уже существует.', 'jeterr40.chm', 5003204, -2146825084), None)\n"
     ]
    }
   ],
   "source": [
    "from win32com.client import Dispatch\n",
    "try:\n",
    "    dbname = r'C:\\Users\\rfrep\\OneDrive\\Рабочий стол\\NewDB.accdb'\n",
    "    accApp = Dispatch(\"Access.Application\")\n",
    "    dbEngine = accApp.DBEngine\n",
    "    workspace = dbEngine.Workspaces(0)\n",
    "\n",
    "    dbLangGeneral = ';LANGID=0x0409;CP=1252;COUNTRY=0'\n",
    "    newdb = workspace.CreateDatabase(dbname, dbLangGeneral, 64)\n",
    "\n",
    "except Exception as e:\n",
    "    print(e)\n",
    "\n",
    "finally:\n",
    "    accApp.DoCmd.CloseDatabase\n",
    "    accApp.Quit\n",
    "    newdb = None\n",
    "    workspace = None\n",
    "    dbEngine = None\n",
    "    accApp = None\n",
    "    \n",
    "\n"
   ]
  },
  {
   "cell_type": "markdown",
   "metadata": {},
   "source": [
    "Укажите путь к базе в \"conn_str\""
   ]
  },
  {
   "cell_type": "code",
   "execution_count": 2,
   "metadata": {},
   "outputs": [],
   "source": [
    "conn_str = (\n",
    "    r'DRIVER={Microsoft Access Driver (*.mdb, *.accdb)};'\n",
    "    r'DBQ=C:\\Users\\rfrep\\OneDrive\\Рабочий стол\\NewDB.accdb;'\n",
    "    )\n",
    "cnxn = pypyodbc.connect(conn_str)\n",
    "crsr = cnxn.cursor()\n"
   ]
  },
  {
   "cell_type": "code",
   "execution_count": 55,
   "metadata": {},
   "outputs": [],
   "source": [
    "#cnxn.close()"
   ]
  },
  {
   "cell_type": "markdown",
   "metadata": {},
   "source": [
    " "
   ]
  },
  {
   "cell_type": "code",
   "execution_count": 3,
   "metadata": {},
   "outputs": [],
   "source": [
    "df = pd.read_csv('Category.csv',sep=';')"
   ]
  },
  {
   "cell_type": "code",
   "execution_count": 4,
   "metadata": {},
   "outputs": [],
   "source": [
    "crsr.execute(\"CREATE TABLE Category (ID_Category  INTEGER  PRIMARY KEY,Category CHAR(20) Not Null unique);\")\n",
    "cnxn.commit()"
   ]
  },
  {
   "cell_type": "code",
   "execution_count": 6,
   "metadata": {},
   "outputs": [],
   "source": [
    "for index ,row in df.iterrows():\n",
    "    sql = \"insert into Category(ID_Category, Category) values (?, ?)\"\n",
    "    params = [row.ID_Category,row.Category]\n",
    "    crsr.execute(sql, params)\n",
    "    cnxn.commit()"
   ]
  },
  {
   "cell_type": "markdown",
   "metadata": {},
   "source": [
    " "
   ]
  },
  {
   "cell_type": "code",
   "execution_count": 19,
   "metadata": {},
   "outputs": [],
   "source": [
    "df = pd.read_csv('Location.csv',sep=';')"
   ]
  },
  {
   "cell_type": "code",
   "execution_count": 18,
   "metadata": {},
   "outputs": [],
   "source": [
    "crsr.execute(\"CREATE TABLE Location (IP  CHAR(16)  PRIMARY KEY,Country CHAR(40) Not Null);\")\n",
    "cnxn.commit()"
   ]
  },
  {
   "cell_type": "code",
   "execution_count": 20,
   "metadata": {},
   "outputs": [],
   "source": [
    "for index ,row in df.iterrows():\n",
    "    sql = \"insert into Location(IP, Country) values (?, ?)\"\n",
    "    params = [row.IP,row.Country]\n",
    "    crsr.execute(sql, params)\n",
    "    cnxn.commit()"
   ]
  },
  {
   "cell_type": "markdown",
   "metadata": {},
   "source": [
    " "
   ]
  },
  {
   "cell_type": "code",
   "execution_count": 5,
   "metadata": {},
   "outputs": [],
   "source": [
    "df = pd.read_csv('Product.csv',sep=';')"
   ]
  },
  {
   "cell_type": "code",
   "execution_count": 6,
   "metadata": {},
   "outputs": [],
   "source": [
    "crsr.execute(\"CREATE TABLE Product (ID_Product  INTEGER  PRIMARY KEY,Product CHAR(20) Not Null,Category INTEGER Not Null,FOREIGN KEY (Category) REFERENCES Category(ID_Category));\")\n",
    "cnxn.commit()"
   ]
  },
  {
   "cell_type": "code",
   "execution_count": 7,
   "metadata": {},
   "outputs": [],
   "source": [
    "for index ,row in df.iterrows():\n",
    "    sql = \"insert into Product(ID_Product, Product, Category) values (?, ?, ?)\"\n",
    "    params = [row.ID_Product,row.Product,row.Category]\n",
    "    crsr.execute(sql, params)\n",
    "    cnxn.commit()"
   ]
  },
  {
   "cell_type": "markdown",
   "metadata": {},
   "source": [
    " "
   ]
  },
  {
   "cell_type": "code",
   "execution_count": 29,
   "metadata": {},
   "outputs": [],
   "source": [
    "df = pd.read_csv('Buy.csv',sep=';')"
   ]
  },
  {
   "cell_type": "code",
   "execution_count": 30,
   "metadata": {},
   "outputs": [],
   "source": [
    "list =  []\n",
    "for i in df.User_id:\n",
    "    list.append(str(i))\n",
    "df.User_id = list"
   ]
  },
  {
   "cell_type": "code",
   "execution_count": 31,
   "metadata": {
    "scrolled": true
   },
   "outputs": [],
   "source": [
    "crsr.execute(\"CREATE TABLE Buy (Cart_id  INTEGER  PRIMARY KEY,\\\"Date\\\" DATE Not Null,\\\"Time\\\" Time Not Null,IP CHAR(16) Not Null,User_id CHAR(255),Success_pay Bit Not Null, FOREIGN KEY (IP) REFERENCES Location(IP));\")\n",
    "cnxn.commit()"
   ]
  },
  {
   "cell_type": "code",
   "execution_count": 32,
   "metadata": {},
   "outputs": [],
   "source": [
    "for index ,row in df.iterrows():\n",
    "    sql = \"insert into Buy(Cart_id, \\\"Date\\\", \\\"Time\\\",User_id, IP,  Success_pay) values (?, ?, ?, ?, ?, ?)\"\n",
    "    params = [row.Cart_id, row.Date, row.Time, row.User_id, row.IP,  row.Success_pay]\n",
    "    crsr.execute(sql, params)\n",
    "    cnxn.commit()"
   ]
  },
  {
   "cell_type": "markdown",
   "metadata": {},
   "source": [
    " "
   ]
  },
  {
   "cell_type": "code",
   "execution_count": 33,
   "metadata": {},
   "outputs": [],
   "source": [
    "df = pd.read_csv('Basket.csv',sep=';')"
   ]
  },
  {
   "cell_type": "code",
   "execution_count": 42,
   "metadata": {},
   "outputs": [],
   "source": [
    "crsr.execute(\"CREATE TABLE Basket (ID_Basket AUTOINCREMENT PRIMARY KEY , \\\"Date\\\" DATE Not Null, \\\"Time\\\" Time Not Null, IP CHAR(16) Not Null, Goods INTEGER Not Null, Amount INTEGER Not Null,Cart_id INTEGER Not Null,FOREIGN KEY (IP) REFERENCES Location(IP),FOREIGN KEY (Goods) REFERENCES Product(ID_Product));\")\n",
    "cnxn.commit()"
   ]
  },
  {
   "cell_type": "code",
   "execution_count": 43,
   "metadata": {},
   "outputs": [],
   "source": [
    "for index ,row in df.iterrows():\n",
    "    sql = \"insert into Basket( \\\"Date\\\", \\\"Time\\\", IP, Goods, Amount, Cart_id) values ( ?, ?, ?, ?, ?, ?)\"\n",
    "    params = [ row.Date, row.Time, row.IP, row.Goods, row.Amount, row.Cart_id]\n",
    "    crsr.execute(sql, params)\n",
    "    cnxn.commit()"
   ]
  },
  {
   "cell_type": "markdown",
   "metadata": {},
   "source": [
    " "
   ]
  },
  {
   "cell_type": "code",
   "execution_count": 44,
   "metadata": {},
   "outputs": [],
   "source": [
    "df = pd.read_csv('Visit.csv',sep=';')"
   ]
  },
  {
   "cell_type": "code",
   "execution_count": 52,
   "metadata": {},
   "outputs": [],
   "source": [
    "crsr.execute(\"CREATE TABLE Visit (ID_Visit INTEGER  PRIMARY KEY,\\\"Date\\\" DATE Not Null,\\\"Time\\\" Time Not Null,IP CHAR(16) Not Null,Product CHAR(16),Times_of_Day CHAR(16) Not Null,Category INTEGER Not Null,FOREIGN KEY (IP) REFERENCES Location(IP),FOREIGN KEY (Category) REFERENCES Category(ID_Category));\")\n",
    "cnxn.commit()"
   ]
  },
  {
   "cell_type": "code",
   "execution_count": 53,
   "metadata": {},
   "outputs": [],
   "source": [
    "for index ,row in df.iterrows():\n",
    "    sql = \"insert into Visit( ID_Visit,\\\"Date\\\", \\\"Time\\\", IP, Product, Times_of_Day, Category) values ( ?, ?, ?, ?, ?, ?, ?)\"\n",
    "    params = [ row.ID_Visit, row.Date, row.Time, row.IP, row.Product, row.Times_of_Day, row.Category]\n",
    "    crsr.execute(sql, params)\n",
    "    cnxn.commit()"
   ]
  },
  {
   "cell_type": "markdown",
   "metadata": {},
   "source": [
    " "
   ]
  },
  {
   "cell_type": "markdown",
   "metadata": {},
   "source": [
    "==== Работа с БД ===="
   ]
  },
  {
   "cell_type": "markdown",
   "metadata": {},
   "source": [
    "Укажите путь к базе в \"conn_str\""
   ]
  },
  {
   "cell_type": "code",
   "execution_count": 2,
   "metadata": {},
   "outputs": [],
   "source": [
    "conn_str = (\n",
    "    r'DRIVER={Microsoft Access Driver (*.mdb, *.accdb)};'\n",
    "    r'DBQ=C:\\Users\\rfrep\\Documents\\Интерсвязь\\DB_Logs.accdb;'\n",
    "    )\n",
    "cnxn = pypyodbc.connect(conn_str)\n",
    "crsr = cnxn.cursor()"
   ]
  },
  {
   "cell_type": "markdown",
   "metadata": {},
   "source": [
    "№1 Посетители из какой страны совершают больше всего действий на сайте?"
   ]
  },
  {
   "cell_type": "code",
   "execution_count": 3,
   "metadata": {
    "scrolled": true
   },
   "outputs": [],
   "source": [
    "country = []\n",
    "count = []\n",
    "crsr.execute(\"SELECT Location.Country, count(Location.Country) FROM Location, Visit, Category WHERE Location.IP = Visit.IP AND Visit.Category = Category.ID_Category Group By Location.Country ORDER BY 2 DESC\") \n",
    "for row in crsr.fetchall():\n",
    "    country.append(row[0])\n",
    "    count.append(row[1])"
   ]
  },
  {
   "cell_type": "code",
   "execution_count": null,
   "metadata": {},
   "outputs": [],
   "source": []
  },
  {
   "cell_type": "code",
   "execution_count": 4,
   "metadata": {},
   "outputs": [],
   "source": [
    "df = pd.DataFrame({'Country':country, 'Count':count})"
   ]
  },
  {
   "cell_type": "markdown",
   "metadata": {},
   "source": [
    "№2 Посетители из какой страны чаще всего интересуются товарами из определенных категорий?"
   ]
  },
  {
   "cell_type": "code",
   "execution_count": 5,
   "metadata": {
    "collapsed": true
   },
   "outputs": [
    {
     "name": "stdout",
     "output_type": "stream",
     "text": [
      "('United States', 1338)\n",
      "('Not found', 607)\n",
      "('China', 275)\n",
      "('Japan', 136)\n",
      "('United Kingdom', 121)\n",
      "('South Korea', 95)\n",
      "('Australia', 80)\n",
      "('Germany', 74)\n",
      "('Switzerland', 60)\n",
      "('France', 58)\n",
      "('Canada', 55)\n",
      "('Belgium', 46)\n",
      "('Brazil', 44)\n",
      "('Russia', 43)\n",
      "('Thailand', 41)\n",
      "('Italia', 39)\n",
      "('Netherlands', 38)\n",
      "('Malaysia', 36)\n",
      "('South Africa', 25)\n",
      "('Taiwan', 25)\n",
      "('Morocco', 25)\n",
      "('Mexico', 24)\n",
      "('India', 22)\n",
      "('Egypt', 21)\n",
      "('Saudi Arabia', 21)\n",
      "('Israel', 18)\n",
      "('Indonesia', 18)\n",
      "('Ireland', 16)\n",
      "('Romania', 16)\n",
      "('Spain', 15)\n",
      "('Sweden', 15)\n",
      "('Argentina', 14)\n",
      "('Mauritius', 13)\n",
      "('Denmark', 13)\n",
      "('Finland', 13)\n",
      "('Poland', 12)\n",
      "('Norway', 11)\n",
      "('Nigeria', 11)\n",
      "('Austria', 10)\n",
      "('Ukraine', 10)\n",
      "('United Arab Emirates', 10)\n",
      "('Colombia', 8)\n",
      "('Chile', 7)\n",
      "('Ghana', 7)\n",
      "('Kuwait', 7)\n",
      "('Lithuania', 7)\n",
      "('Luxembourg', 7)\n",
      "('Venezuela', 7)\n",
      "('New Zealand', 6)\n",
      "('Latvia', 6)\n",
      "('Tunisia', 6)\n",
      "('Iran', 6)\n",
      "('Philippines', 6)\n",
      "('Peru', 6)\n",
      "('Croatia', 6)\n",
      "('Bosnia and Herzegovina', 5)\n",
      "('Slovakia', 5)\n",
      "('Kazakhstan', 5)\n",
      "('Hungary', 5)\n",
      "('Malta', 4)\n",
      "('Czech Republic', 4)\n",
      "('Georgia', 4)\n",
      "('Syria', 4)\n",
      "('Namibia', 4)\n",
      "('Turkey', 3)\n",
      "('Algeria', 3)\n",
      "('Uzbekistan', 2)\n",
      "('Ecuador', 2)\n",
      "('Greece', 2)\n",
      "('Tanzania', 2)\n",
      "('Lebanon', 2)\n",
      "('Oman', 1)\n",
      "('Vietnam', 1)\n",
      "('Pakistan', 1)\n"
     ]
    }
   ],
   "source": [
    "category = 'caviar'\n",
    "crsr.execute(\"SELECT Location.Country, count(Location.Country) FROM Location, Visit, Category WHERE Location.IP = Visit.IP AND Visit.Category = Category.ID_Category AND Category.Category = (?) Group By Location.Country ORDER BY 2 DESC\", [(category)])\n",
    "for row in crsr.fetchall():\n",
    "    print (row)"
   ]
  },
  {
   "cell_type": "markdown",
   "metadata": {},
   "source": [
    "№3 В какое время суток чаще всего просматривают определенную категорию товаров?"
   ]
  },
  {
   "cell_type": "code",
   "execution_count": 6,
   "metadata": {
    "scrolled": true
   },
   "outputs": [
    {
     "name": "stdout",
     "output_type": "stream",
     "text": [
      "('Morning', 1268)\n",
      "('Evening', 1001)\n",
      "('Day', 754)\n",
      "('Night', 692)\n"
     ]
    }
   ],
   "source": [
    "category = 'caviar'\n",
    "crsr.execute(\"SELECT Visit.Times_of_Day, count(Visit.Times_of_Day) FROM Visit, Category WHERE Visit.Category = Category.ID_Category AND Category.Category = (?) Group By Visit.Times_of_Day ORDER BY 2 DESC\", [(category)])\n",
    "for row in crsr.fetchall():\n",
    "    print (row)"
   ]
  },
  {
   "cell_type": "markdown",
   "metadata": {},
   "source": [
    "№4 Какая нагрузка (число запросов) на сайт за астрономический час?"
   ]
  },
  {
   "cell_type": "code",
   "execution_count": 7,
   "metadata": {},
   "outputs": [
    {
     "name": "stdout",
     "output_type": "stream",
     "text": [
      "68\n"
     ]
    }
   ],
   "source": [
    "t = '2:30:00'\n",
    "\n",
    "spl = re.split(':',t)\n",
    "tt = str(int(spl[0])+1)+':'+spl[1]+':'+spl[2]\n",
    "\n",
    "dt = '01.08.2018'\n",
    "crsr.execute(\"select  count(*) from Visit where Visit.Time Between [?] and [?] and Visit.Date = [?];\",[(t),(tt),(dt)]) \n",
    "for row in crsr.fetchall():\n",
    "    print (row[0])"
   ]
  },
  {
   "cell_type": "markdown",
   "metadata": {},
   "source": [
    "№5 Товары из какой категории чаще всего покупают совместно с товаром из заданной категории?"
   ]
  },
  {
   "cell_type": "code",
   "execution_count": 8,
   "metadata": {},
   "outputs": [
    {
     "name": "stdout",
     "output_type": "stream",
     "text": [
      "('frozen_fish', 41)\n",
      "('semi_manufactures', 40)\n",
      "('fresh_fish', 38)\n",
      "('canned_food', 38)\n"
     ]
    }
   ],
   "source": [
    "crsr.execute(\"SELECT Category.Category, Count(Category.Category) FROM Product, Category, Basket WHERE (((Basket.Cart_id) In (select Basket.Cart_id From Buy, Basket Where Buy.Cart_id = Basket.Cart_id and Basket.Goods in  (select Product.ID_Product From Product , Category Where Product.Category = Category.ID_Category and Category.Category = (?)))) AND ((Basket.Goods)=[Product].[ID_Product]) AND ((Product.Category)=[Category].[ID_Category]) AND ((Category.Category)<>([?]))) GROUP BY Category.Category ORDER BY 2 DESC;\", [(category),(category)])\n",
    "for row in crsr.fetchall():\n",
    "    print (row)"
   ]
  },
  {
   "cell_type": "markdown",
   "metadata": {},
   "source": [
    "№6 Сколько брошенных (не оплаченных) корзин имеется за определенный период?"
   ]
  },
  {
   "cell_type": "code",
   "execution_count": 9,
   "metadata": {},
   "outputs": [
    {
     "name": "stdout",
     "output_type": "stream",
     "text": [
      "29\n"
     ]
    }
   ],
   "source": [
    "date1 = '01.08.2018'\n",
    "date2 = '02.08.2018'\n",
    "crsr.execute(\"SELECT Count(*) FROM Basket WHERE (((Basket.Cart_id) Not In (select Basket.Cart_id From Buy, Basket Where Buy.Cart_id = Basket.Cart_id))) AND Basket.Date Between [?] and [?];\",[(date1),(date2)]) \n",
    "for row in crsr.fetchall():\n",
    "    print (row[0])"
   ]
  },
  {
   "cell_type": "markdown",
   "metadata": {},
   "source": [
    "№7 Какое количество пользователей совершали повторные покупки за определенный период?"
   ]
  },
  {
   "cell_type": "code",
   "execution_count": 10,
   "metadata": {},
   "outputs": [
    {
     "name": "stdout",
     "output_type": "stream",
     "text": [
      "2\n"
     ]
    }
   ],
   "source": [
    "date1 = '01.08.2018'\n",
    "date2 = '02.08.2018'\n",
    "crsr.execute(\"select count(*) from (SELECT count(Buy.User_id) AS Count_Visit FROM Buy  WHERE Buy.Date Between [?] and [?] Group By Buy.User_id ) AS Unique_User where  Unique_User.Count_Visit > 1 ;\",[(date1),(date2)]) \n",
    "for row in crsr.fetchall():\n",
    "    print (row[0])"
   ]
  }
 ],
 "metadata": {
  "kernelspec": {
   "display_name": "Python 3",
   "language": "python",
   "name": "python3"
  },
  "language_info": {
   "codemirror_mode": {
    "name": "ipython",
    "version": 3
   },
   "file_extension": ".py",
   "mimetype": "text/x-python",
   "name": "python",
   "nbconvert_exporter": "python",
   "pygments_lexer": "ipython3",
   "version": "3.6.5"
  }
 },
 "nbformat": 4,
 "nbformat_minor": 2
}
